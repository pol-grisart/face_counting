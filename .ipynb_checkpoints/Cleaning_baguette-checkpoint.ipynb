{
 "cells": [
  {
   "cell_type": "markdown",
   "metadata": {},
   "source": [
    "Stanislas Deneuville - Emmanuel Ferrandi - Pol Grisart - Marine Médard\n",
    "# Project of data science :  Face recognition in a video and counting\n",
    "12/11/2018\n",
    "\n",
    "## Part I : Cleaning"
   ]
  },
  {
   "cell_type": "code",
   "execution_count": 8,
   "metadata": {},
   "outputs": [],
   "source": [
    "import cv2\n",
    "import sys\n",
    "import os\n",
    "import numpy as np"
   ]
  },
  {
   "cell_type": "markdown",
   "metadata": {},
   "source": [
    "__face_detection__ : dectect the faces in a photograph.\n",
    "\n",
    "\n",
    "In : \n",
    "* imagePath : name of the file containing the image in the format jpeg for example\n",
    "\n",
    "Out : \n",
    "* face_locations : list of the location of all faces in the picture in parameter\n",
    "* height : height of the input image\n",
    "* width : width of the input image\n"
   ]
  },
  {
   "cell_type": "code",
   "execution_count": 9,
   "metadata": {},
   "outputs": [],
   "source": [
    "def detectFaces(imagePath):\n",
    "    cascPath = \"haarcascade_frontalface_default.xml\"\n",
    "\n",
    "    # Create the haar cascade\n",
    "    faceCascade = cv2.CascadeClassifier(cascPath)\n",
    "\n",
    "    # Read the image\n",
    "    image = cv2.imread(imagePath)\n",
    "    gray = cv2.cvtColor(image, cv2.COLOR_BGR2GRAY)\n",
    "    height = image.shape[0]\n",
    "    width = image.shape[1] \n",
    "\n",
    "    # Detect faces in the image\n",
    "    face_locations = faceCascade.detectMultiScale(\n",
    "        gray,\n",
    "        scaleFactor=1.1,\n",
    "        minNeighbors=3,\n",
    "        minSize=(20, 20),\n",
    "        flags = cv2.CASCADE_SCALE_IMAGE\n",
    "    )\n",
    "\n",
    "    return face_locations,height,width"
   ]
  },
  {
   "cell_type": "markdown",
   "metadata": {},
   "source": [
    "__image_generation__ : generate a black image with white circle whoes location in gave in parameter\n",
    "\n",
    "\n",
    "In : \n",
    "* face_locations : list containing the locations of the white rectangles that will be added to the picture\n",
    "* height : height of the input image\n",
    "* width : width of the input image\n",
    "\n",
    "Out : \n",
    "* BWimage : list of list  representing a black picture with white rectangles\n"
   ]
  },
  {
   "cell_type": "code",
   "execution_count": 16,
   "metadata": {},
   "outputs": [],
   "source": [
    "def toBlackAndWhite(face_locations,height,width):\n",
    "    BWimage = np.zeros((height,width))\n",
    "    height = BWimage.shape[0]\n",
    "    \n",
    "    for (x, y, w, h) in face_locations:\n",
    "        for i in range(h):\n",
    "            for j in range(w):\n",
    "                BWimage[y+j,x+i]=255 #255 is black\n",
    "                \n",
    "    return BWimage"
   ]
  },
  {
   "cell_type": "markdown",
   "metadata": {},
   "source": [
    "__resize_image__ : resize the image gave in parameter in a 50x50 pixels image \n",
    "\n",
    "\n",
    "In : \n",
    "* image : list of list  representing an image in white and black\n",
    "\n",
    "Out : \n",
    "* face_locations : list of list representing the same image than in parameter but with the dimensions 50x50\n"
   ]
  },
  {
   "cell_type": "code",
   "execution_count": 18,
   "metadata": {},
   "outputs": [],
   "source": [
    "def resize_image(image) :\n",
    "    final_image = cv2.resize(image, (50,50), interpolation = cv2.INTER_AREA) \n",
    "    return final_image"
   ]
  },
  {
   "cell_type": "markdown",
   "metadata": {},
   "source": [
    "__save_image__ : save the image in parameter in the good repository according to nb_circles\n",
    "\n",
    "\n",
    "In : \n",
    "* image : image that we want to save\n",
    "* nb_faces : int, the number of faces detected in the image\n",
    "\n",
    "Out : \n",
    "* int : 0 if everything is ok\n"
   ]
  },
  {
   "cell_type": "code",
   "execution_count": 46,
   "metadata": {},
   "outputs": [],
   "source": [
    "def save_image(image, nb_faces) :\n",
    "    path = \"./train_set/\"+str(nb_faces)+\"/\"\n",
    "    cv2.imwrite(path+\"test.jpg\",image)\n",
    "    print(\"Image saved in : \"+path+\"test.jpg\"))\n",
    "    return 0"
   ]
  },
  {
   "cell_type": "markdown",
   "metadata": {},
   "source": [
    "__cleaning__ : clean an image so that we can count faces in it thanks to an ANN\n",
    "\n",
    "In : \n",
    "* image : name of the file containing the image in the format jpeg for example\n",
    "\n"
   ]
  },
  {
   "cell_type": "code",
   "execution_count": 44,
   "metadata": {},
   "outputs": [],
   "source": [
    "def cleaning(image) :\n",
    "    face_locations,height,width = detectFaces(image)\n",
    "    nb_faces = len(face_locations)\n",
    "    \n",
    "    newImage = toBlackAndWhite(face_locations,height,width)\n",
    "    \n",
    "    final_image = resize_image(newImage)\n",
    "    \n",
    "    save_image(final_image, nb_faces)"
   ]
  },
  {
   "cell_type": "code",
   "execution_count": 47,
   "metadata": {},
   "outputs": [
    {
     "name": "stdout",
     "output_type": "stream",
     "text": [
      "[[0. 0. 0. ... 0. 0. 0.]\n",
      " [0. 0. 0. ... 0. 0. 0.]\n",
      " [0. 0. 0. ... 0. 0. 0.]\n",
      " ...\n",
      " [0. 0. 0. ... 0. 0. 0.]\n",
      " [0. 0. 0. ... 0. 0. 0.]\n",
      " [0. 0. 0. ... 0. 0. 0.]]\n",
      "./train_set/6/test.jpg\n"
     ]
    }
   ],
   "source": [
    "cleaning(\"test.jpg\")"
   ]
  },
  {
   "cell_type": "code",
   "execution_count": null,
   "metadata": {},
   "outputs": [],
   "source": []
  }
 ],
 "metadata": {
  "kernelspec": {
   "display_name": "Python 2",
   "language": "python",
   "name": "python2"
  },
  "language_info": {
   "codemirror_mode": {
    "name": "ipython",
    "version": 2
   },
   "file_extension": ".py",
   "mimetype": "text/x-python",
   "name": "python",
   "nbconvert_exporter": "python",
   "pygments_lexer": "ipython2",
   "version": "2.7.15"
  }
 },
 "nbformat": 4,
 "nbformat_minor": 2
}
