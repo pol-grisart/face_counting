{
 "cells": [
  {
   "cell_type": "markdown",
   "metadata": {},
   "source": [
    "Stanislas Deneuville - Emmanuel Ferrandi - Pol Grisart - Marine Médard\n",
    "# Project of data science :  Face recognition in a video and counting\n",
    "16/11/2018\n",
    "\n",
    "## Part II : Train&Use"
   ]
  },
  {
   "cell_type": "code",
   "execution_count": 1,
   "metadata": {},
   "outputs": [],
   "source": [
    "import random"
   ]
  },
  {
   "cell_type": "markdown",
   "metadata": {},
   "source": [
    "__split__ : split the set into two well mixed set \n",
    "\n",
    "\n",
    "In : \n",
    "* data : list of all the images \n",
    "\n",
    "Out : \n",
    "* train_set : list of the images in the training set representing 66% of data\n",
    "* test_set : list of the images in the test set representing the other 34% of data"
   ]
  },
  {
   "cell_type": "code",
   "execution_count": null,
   "metadata": {},
   "outputs": [],
   "source": [
    "TRAIN_TEST_RATIO = 0.66\n",
    "# TODO equlize data, have the same number of each value in both categories to avoid bias (another function?)\n",
    "def split(data:list, train_test_ratio:int=TRAIN_TEST_RATIO, random_split=True) :\n",
    "    if random_split:\n",
    "        # Shuffle\n",
    "        random.shuffle(data)\n",
    "    \n",
    "    # Split data\n",
    "    cut_index = round(len(data) * train_test_ratio) \n",
    "    train_set = data[:cut_index]\n",
    "    test_set = data[cut_index:]\n",
    "    return(train_set, test_set)"
   ]
  },
  {
   "cell_type": "markdown",
   "metadata": {},
   "source": [
    "__train_neuural_network__ : function that creates a neural network and trains it with the train_set "
   ]
  },
  {
   "cell_type": "code",
   "execution_count": null,
   "metadata": {},
   "outputs": [],
   "source": [
    "def train_neural_network(train_set):"
   ]
  },
  {
   "cell_type": "markdown",
   "metadata": {},
   "source": [
    "__evaluate_performance__ : function that applys the neural network on the images in the test_set and compare with the real number of faces in these images "
   ]
  },
  {
   "cell_type": "code",
   "execution_count": null,
   "metadata": {},
   "outputs": [],
   "source": [
    "def evaluate_performance() :"
   ]
  }
 ],
 "metadata": {
  "kernelspec": {
   "display_name": "Python 3",
   "language": "python",
   "name": "python3"
  },
  "language_info": {
   "codemirror_mode": {
    "name": "ipython",
    "version": 3
   },
   "file_extension": ".py",
   "mimetype": "text/x-python",
   "name": "python",
   "nbconvert_exporter": "python",
   "pygments_lexer": "ipython3",
   "version": "3.6.5"
  }
 },
 "nbformat": 4,
 "nbformat_minor": 2
}
