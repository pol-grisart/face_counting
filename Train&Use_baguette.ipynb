{
 "cells": [
  {
   "cell_type": "markdown",
   "metadata": {},
   "source": [
    "Stanislas Deneuville - Emmanuel Ferrandi - Pol Grisart - Marine Médard\n",
    "# Project of data science :  Face recognition in a video and counting\n",
    "16/11/2018\n",
    "\n",
    "## Part II : Train&Use"
   ]
  },
  {
   "cell_type": "code",
   "execution_count": 97,
   "metadata": {},
   "outputs": [],
   "source": [
    "import random\n",
    "import keras\n",
    "import os\n",
    "import cv2\n",
    "import numpy as np\n",
    "import matplotlib.pyplot as plt"
   ]
  },
  {
   "cell_type": "markdown",
   "metadata": {},
   "source": [
    "The maximum number of faces per image the network will train for "
   ]
  },
  {
   "cell_type": "code",
   "execution_count": null,
   "metadata": {},
   "outputs": [],
   "source": [
    "MAX_CATEGORY = 11"
   ]
  },
  {
   "cell_type": "markdown",
   "metadata": {},
   "source": [
    "__split__ : split the set into two well mixed set \n",
    "\n",
    "\n",
    "In : \n",
    "* data : list of all the images \n",
    "\n",
    "Out : \n",
    "* train_set : list of the images in the training set representing 66% of data\n",
    "* test_set : list of the images in the test set representing the other 34% of data"
   ]
  },
  {
   "cell_type": "code",
   "execution_count": 98,
   "metadata": {},
   "outputs": [],
   "source": [
    "TRAIN_TEST_RATIO = 0.66\n",
    "def split(data:list, train_test_ratio:int=TRAIN_TEST_RATIO, random_split=True) :\n",
    "    if random_split:\n",
    "        # Shuffle\n",
    "        random.shuffle(data)\n",
    "    \n",
    "    # Split data\n",
    "    cut_index = round(len(data) * train_test_ratio) \n",
    "    train_set = data[:cut_index]\n",
    "    test_set = data[cut_index:]\n",
    "    return(train_set, test_set)"
   ]
  },
  {
   "cell_type": "markdown",
   "metadata": {},
   "source": [
    "__Equalize__: cut data subsets to have the same number of images for each possible output value\n",
    "(Also plot the initial number of sample of each subset) \n",
    "In : \n",
    "* data : list of list of data elements\n",
    "Out : \n",
    "* equalized data sets : list of list of data elements"
   ]
  },
  {
   "cell_type": "code",
   "execution_count": 99,
   "metadata": {},
   "outputs": [],
   "source": [
    "def equalize(subsets):\n",
    "    print(\"Equalizing subset\")\n",
    "    for nb_face,subset in enumerate(subsets):\n",
    "        print(\"{} faces set contains {} images\".format(nb_face, len(subset)))\n",
    "    subsets_length = [len(subset) for subset in subsets]\n",
    "    \n",
    "    # plot subsets length\n",
    "    plt.bar([k for k in range(len(subsets))], subsets_length)\n",
    "    plt.ylabel('number of sample')\n",
    "    plt.xlabel('number of faces in sample')\n",
    "    plt.title('number of sample for each output value')\n",
    "    plt.show()\n",
    "    \n",
    "    minimum = max(100,min(subsets_length))\n",
    "    cutted_subsets = [subset[:minimum] for subset in subsets]\n",
    "    return cutted_subsets"
   ]
  },
  {
   "cell_type": "markdown",
   "metadata": {},
   "source": [
    "__load_and_split__ : Load all the available cleaned data, equalize, split and shuffle it\n",
    "\n",
    "\n",
    "In : \n",
    "\n",
    "Out : \n",
    "* train_set : list of the images in the training set representing 66% of data\n",
    "* test_set : list of the images in the test set representing the other 34% of data"
   ]
  },
  {
   "cell_type": "code",
   "execution_count": null,
   "metadata": {},
   "outputs": [],
   "source": [
    "def load_and_split():\n",
    "    subsets = [[] for k in range(MAX_CATEGORY+1)]\n",
    "    for nb_face in range(MAX_CATEGORY+1):\n",
    "        folder_path = os.path.join(\"train_set\", str(nb_face))\n",
    "        if (os.path.isdir(folder_path)) :\n",
    "\n",
    "            # Y value of these alements\n",
    "            categorical_y = np.zeros((1, MAX_CATEGORY+1))\n",
    "            categorical_y[0, nb_face] = 1\n",
    "\n",
    "            folder_path = os.path.join(\"train_set\", str(nb_face))\n",
    "            for filename in os.listdir(folder_path):\n",
    "                # Filter non image files\n",
    "                if \".jpeg\" in filename or \".png\" in filename or \".jpg\" in filename:\n",
    "                    x = plt.imread(os.path.join(folder_path, filename)).reshape((1, 50,50))\n",
    "                    y = categorical_y\n",
    "                    xy = (x,y)\n",
    "                    subsets[nb_face].append(xy)\n",
    "    \n",
    "    # Equalize to have the same number of each Y value\n",
    "    equalized_subsets = equalize(subsets)\n",
    "    \n",
    "    # Split data respecting equalization\n",
    "    train_set, test_set = [], []\n",
    "    for subset in equalized_subsets:\n",
    "        add_train_set, add_test_set = split(subset)\n",
    "        train_set = train_set + add_train_set\n",
    "        test_set = test_set + add_test_set\n",
    "    \n",
    "    # Shuffle\n",
    "    random.shuffle(train_set)\n",
    "    random.shuffle(test_set)\n",
    "    \n",
    "    print(\"Train size = {}, test size = {}\".format(len(train_set), len(test_set)))\n",
    "    \n",
    "    return train_set, test_set"
   ]
  },
  {
   "cell_type": "markdown",
   "metadata": {},
   "source": [
    "__AccuracyPlotMemory__: memorise the value of the accuracy all over the training in order to plot it at the end."
   ]
  },
  {
   "cell_type": "code",
   "execution_count": 100,
   "metadata": {},
   "outputs": [],
   "source": [
    "class AccuracyPlotMemory(keras.callbacks.Callback):\n",
    "    def on_train_begin(self, logs={}):\n",
    "        self.plot_y = []\n",
    "\n",
    "    def on_epoch_end(self, batch, logs={}):\n",
    "        self.plot_y.append(logs.get('acc'))\n",
    "        \n",
    "    def plot(self):\n",
    "        plt.plot([k+1 for k in range(len(self.plot_y))], self.plot_y)\n",
    "        \n",
    "        plt.ylabel('Accuracy')\n",
    "        plt.xlabel('Iteration')\n",
    "        plt.show()\n",
    "        \n",
    "plot_callback = AccuracyPlotMemory()"
   ]
  },
  {
   "cell_type": "markdown",
   "metadata": {},
   "source": [
    "__train_neuural_network__ : function that creates a neural network and trains it with the train_set "
   ]
  },
  {
   "cell_type": "code",
   "execution_count": 101,
   "metadata": {},
   "outputs": [],
   "source": [
    "def generate_model():\n",
    "    # Simple model\n",
    "    model = keras.models.Sequential()\n",
    "    \n",
    "    # OLD MODEL\n",
    "    #model.add(keras.layers.Dense(units=500, activation='relu', input_dim=50*50))\n",
    "    #model.add(keras.layers.Dense(units=100, activation='relu'))\n",
    "    #model.add(keras.layers.Dense(units=40, activation='relu'))\n",
    "    #model.add(keras.layers.Dense(units=15, activation='relu'))\n",
    "    \n",
    "    \n",
    "    # Convolutionnal layers\n",
    "    model.add(keras.layers.Conv2D(32, kernel_size=(5, 5), strides=(1, 1),\n",
    "                 activation='relu',\n",
    "                 input_shape=(50,50, 1)))\n",
    "    model.add(keras.layers.MaxPooling2D(pool_size=(2, 2), strides=(2, 2)))\n",
    "    model.add(keras.layers.Conv2D(64, (5, 5), activation='relu'))\n",
    "    model.add(keras.layers.MaxPooling2D(pool_size=(2, 2)))\n",
    "    # End with classic layers\n",
    "    model.add(keras.layers.Flatten())\n",
    "    model.add(keras.layers.Dense(3000, activation='relu'))\n",
    "    #model.add(keras.layers.Dense(700, activation='relu'))  # Trying adding one or two more layers doesn't provide any amelioration\n",
    "    #model.add(keras.layers.Dense(100, activation='relu'))\n",
    "    model.add(keras.layers.Dense(MAX_CATEGORY+1, activation='softmax'))\n",
    "    \n",
    "    # Define learning process\n",
    "    # loss choices : categorical_crossentropy or categorical_hinge\n",
    "    model.compile(loss='categorical_crossentropy',\n",
    "              optimizer='sgd',\n",
    "              metrics=['accuracy'])\n",
    "    return model \n",
    "\n",
    "def train_neural_network(train_set, test_set=None):\n",
    "    print(\"Generating model\")\n",
    "    model = generate_model()\n",
    "    \n",
    "    # Convert tain set in a format readable by keras\n",
    "    x_train = np.concatenate([x for x,y in train_set]).reshape(len(train_set), 50, 50, 1)\n",
    "    y_train = np.concatenate([y for x,y in train_set])\n",
    "    print(\"X train size = {}, y train  size = {}\".format(x_train.shape, y_train.shape))\n",
    "    \n",
    "    # If test set is provided for a better evaluation during the training \n",
    "    xy_test = None\n",
    "    if test_set is not None:\n",
    "        # Convert test set in a format readable by keras\n",
    "        x_test = np.concatenate([x for x,y in test_set]).reshape(len(test_set), 50, 50, 1)\n",
    "        y_test = np.concatenate([y for x,y in test_set])\n",
    "        xy_test = x_test, y_test\n",
    "    \n",
    "    print(\"Start training\")\n",
    "    model.fit(x_train, y_train, epochs=30, batch_size=32, callbacks=[plot_callback], validation_data=xy_test)\n",
    "    \n",
    "    return model"
   ]
  },
  {
   "cell_type": "markdown",
   "metadata": {},
   "source": [
    "__evaluate_performance__ : function that applys the neural network on the images in the test_set and compare with the real number of faces in these images "
   ]
  },
  {
   "cell_type": "code",
   "execution_count": 102,
   "metadata": {},
   "outputs": [],
   "source": [
    "def evaluate_performance(model, test_set):\n",
    "    # Convert test set in a format readable by keras\n",
    "    x_test = np.concatenate([x for x,y in test_set]).reshape(len(test_set), 50, 50, 1)\n",
    "    y_test = np.concatenate([y for x,y in test_set])\n",
    "    \n",
    "    # Evaluate perfoamance\n",
    "    loss_and_metrics = model.evaluate(x_test, y_test, batch_size=128)\n",
    "    \n",
    "    # Display accuracy plot\n",
    "    plot_callback.plot()"
   ]
  },
  {
   "cell_type": "markdown",
   "metadata": {},
   "source": [
    "Execute all the code"
   ]
  },
  {
   "cell_type": "code",
   "execution_count": 104,
   "metadata": {},
   "outputs": [
    {
     "name": "stdout",
     "output_type": "stream",
     "text": [
      "Split\n",
      "Train size = 290, test size = 146\n",
      "Train\n",
      "Generating model\n",
      "X train size = (290, 50, 50, 1), y train  size = (290, 31)\n",
      "Start training\n",
      "Epoch 1/30\n",
      "290/290 [==============================] - 3s 10ms/step - loss: 12.7287 - acc: 0.1862\n",
      "Epoch 2/30\n",
      "290/290 [==============================] - 2s 8ms/step - loss: 12.9855 - acc: 0.1862\n",
      "Epoch 3/30\n",
      "290/290 [==============================] - 2s 8ms/step - loss: 12.9855 - acc: 0.1862\n",
      "Epoch 4/30\n",
      "290/290 [==============================] - 2s 8ms/step - loss: 12.9855 - acc: 0.1862\n",
      "Epoch 5/30\n",
      "290/290 [==============================] - 2s 8ms/step - loss: 12.9855 - acc: 0.1862\n",
      "Epoch 6/30\n",
      "290/290 [==============================] - 2s 8ms/step - loss: 12.9854 - acc: 0.1862\n",
      "Epoch 7/30\n",
      "290/290 [==============================] - 3s 9ms/step - loss: 12.9854 - acc: 0.1862\n",
      "Epoch 8/30\n",
      "290/290 [==============================] - 3s 9ms/step - loss: 12.9854 - acc: 0.1862\n",
      "Epoch 9/30\n",
      "290/290 [==============================] - 3s 9ms/step - loss: 12.9854 - acc: 0.1862\n",
      "Epoch 10/30\n",
      "290/290 [==============================] - 2s 8ms/step - loss: 12.9854 - acc: 0.1862\n",
      "Epoch 11/30\n",
      "290/290 [==============================] - 3s 10ms/step - loss: 12.9853 - acc: 0.1862\n",
      "Epoch 12/30\n",
      "290/290 [==============================] - 2s 9ms/step - loss: 12.9853 - acc: 0.1862\n",
      "Epoch 13/30\n",
      "290/290 [==============================] - 2s 8ms/step - loss: 12.9853 - acc: 0.1862\n",
      "Epoch 14/30\n",
      "290/290 [==============================] - 2s 8ms/step - loss: 12.9853 - acc: 0.1862\n",
      "Epoch 15/30\n",
      "290/290 [==============================] - 2s 8ms/step - loss: 12.9852 - acc: 0.1862\n",
      "Epoch 16/30\n",
      "290/290 [==============================] - 2s 8ms/step - loss: 12.9852 - acc: 0.1862\n",
      "Epoch 17/30\n",
      "290/290 [==============================] - 2s 8ms/step - loss: 12.9852 - acc: 0.1862\n",
      "Epoch 18/30\n",
      "290/290 [==============================] - 2s 8ms/step - loss: 12.9852 - acc: 0.1862\n",
      "Epoch 19/30\n",
      "290/290 [==============================] - 2s 8ms/step - loss: 12.9851 - acc: 0.1862\n",
      "Epoch 20/30\n",
      "290/290 [==============================] - 2s 8ms/step - loss: 12.9851 - acc: 0.1862\n",
      "Epoch 21/30\n",
      "290/290 [==============================] - 2s 8ms/step - loss: 12.9851 - acc: 0.1862\n",
      "Epoch 22/30\n",
      "290/290 [==============================] - 2s 8ms/step - loss: 12.9851 - acc: 0.1862\n",
      "Epoch 23/30\n",
      "290/290 [==============================] - 2s 8ms/step - loss: 12.9850 - acc: 0.1862\n",
      "Epoch 24/30\n",
      "290/290 [==============================] - 2s 8ms/step - loss: 12.9850 - acc: 0.1862\n",
      "Epoch 25/30\n",
      "290/290 [==============================] - 2s 8ms/step - loss: 12.9850 - acc: 0.1862\n",
      "Epoch 26/30\n",
      "290/290 [==============================] - 2s 9ms/step - loss: 12.9850 - acc: 0.1862\n",
      "Epoch 27/30\n",
      "290/290 [==============================] - 2s 8ms/step - loss: 12.9850 - acc: 0.1862\n",
      "Epoch 28/30\n",
      "290/290 [==============================] - 2s 8ms/step - loss: 12.9849 - acc: 0.1862\n",
      "Epoch 29/30\n",
      "290/290 [==============================] - 3s 9ms/step - loss: 12.9849 - acc: 0.1862\n",
      "Epoch 30/30\n",
      "290/290 [==============================] - 2s 8ms/step - loss: 12.9849 - acc: 0.1862\n",
      "Save\n",
      "Saved model to disk\n",
      "Evaluate\n"
     ]
    },
    {
     "data": {
      "image/png": "[encoded data removed]",
      "text/plain": [
       "<Figure size 432x288 with 1 Axes>"
      ]
     },
     "metadata": {},
     "output_type": "display_data"
    },
    {
     "name": "stdout",
     "output_type": "stream",
     "text": [
      "Train size = 1038, test size = 533\n",
      "Train\n",
      "Generating model\n"
     ]
    },
    {
     "ename": "KeyboardInterrupt",
     "evalue": "",
     "output_type": "error",
     "traceback": [
     ]
    }
   ],
   "source": [
    "print(\"Split\")\n",
    "train_set, test_set = load_and_split()\n",
    "\n",
    "print(\"Train\")\n",
    "model = train_neural_network(train_set)\n",
    "\n",
    "print(\"Evaluate\")\n",
    "evaluate_performance(model, test_set)"
   ]
  },
  {
   "cell_type": "markdown",
   "metadata": {},
   "source": [
    "__manual_evaluation__: provide a clear humain overview of the final performance of network "
   ]
  },
  {
   "cell_type": "code",
   "execution_count": null,
   "metadata": {
    "scrolled": true
   },
   "outputs": [],
   "source": [
    "def manual_evaluation(model, test_et):\n",
    "    x_test = np.concatenate([x for x,y in test_set]).reshape(len(test_set), 50, 50, 1)\n",
    "    y_test = np.concatenate([y for x,y in test_set])\n",
    "    outs = model.predict(x_test)\n",
    "    \n",
    "    result = [[] for k in range(MAX_CATEGORY + 1)]\n",
    "    \n",
    "    square_error = 0\n",
    "    perfect_accuracy = 0\n",
    "    count = 0\n",
    "    \n",
    "    for y_out, y_expected in zip(outs, y_test):\n",
    "        #print(\">>\",y_out,\"/expects/\",y_expected)\n",
    "        clean_expected_out = 0\n",
    "        while not y_expected[clean_expected_out] == 1:\n",
    "            clean_expected_out += 1\n",
    "        clean_out = y_out.argmax()\n",
    "        result[clean_expected_out].append(clean_out)\n",
    "        \n",
    "        square_error += abs(clean_expected_out-clean_out)**2\n",
    "        if clean_out == clean_expected_out:\n",
    "            perfect_accuracy += 1\n",
    "        count += 1\n",
    "        \n",
    "    #print(\"==================\")\n",
    "    for k,line in enumerate(result):\n",
    "        print(k,line)\n",
    "    \n",
    "    print(\"Mean square error {}\".format(square_error/count))\n",
    "    print(\"perfect match rate {}%\".format(round(perfect_accuracy/count*100), 2))\n",
    "    return square_error/count, perfect_accuracy/count\n",
    "mean_square_error, perfect_accuracy = manual_evaluation(model, test_set)"
   ]
  },
  {
   "cell_type": "markdown",
   "metadata": {},
   "source": [
    "Save the network for later reuse "
   ]
  },
  {
   "cell_type": "code",
   "execution_count": null,
   "metadata": {},
   "outputs": [],
   "source": [
    "#save model\n",
    "\n",
    "# JSON\n",
    "json_model = model.to_json()\n",
    "with open(\"model_CNN_{}.json\".format(round(perfect_accuracy*100)), \"w\") as f:\n",
    "    f.write(json_model)\n",
    "# Weights\n",
    "model.save_weights(\"weight_CNN_{}.h5\".format(round(perfect_accuracy*100)))\n",
    "print(\"Model saved\")"
   ]
  }
 ],
 "metadata": {
  "kernelspec": {
   "display_name": "Python 3",
   "language": "python",
   "name": "python3"
  },
  "language_info": {
   "codemirror_mode": {
    "name": "ipython",
    "version": 3
   },
   "file_extension": ".py",
   "mimetype": "text/x-python",
   "name": "python",
   "nbconvert_exporter": "python",
   "pygments_lexer": "ipython3",
   "version": "3.6.7"
  }
 },
 "nbformat": 4,
 "nbformat_minor": 2
}
