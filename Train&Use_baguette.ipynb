{
 "cells": [
  {
   "cell_type": "markdown",
   "metadata": {},
   "source": [
    "Stanislas Deneuville - Emmanuel Ferrandi - Pol Grisart - Marine Médard\n",
    "# Project of data science :  Face recognition in a video and counting\n",
    "16/11/2018\n",
    "\n",
    "## Part II : Train&Use"
   ]
  },
  {
   "cell_type": "code",
   "execution_count": 1,
   "metadata": {},
   "outputs": [],
   "source": [
    "import random\n",
    "import keras\n",
    "import os\n",
    "import cv2\n",
    "import numpy as np\n",
    "import matplotlib.pyplot as plt"
   ]
  },
  {
   "cell_type": "markdown",
   "metadata": {},
   "source": [
    "__split__ : split the set into two well mixed set \n",
    "\n",
    "\n",
    "In : \n",
    "* data : list of all the images \n",
    "\n",
    "Out : \n",
    "* train_set : list of the images in the training set representing 66% of data\n",
    "* test_set : list of the images in the test set representing the other 34% of data"
   ]
  },
  {
   "cell_type": "code",
   "execution_count": null,
   "metadata": {},
   "outputs": [],
   "source": [
    "TRAIN_TEST_RATIO = 0.66\n",
    "def split(data:np.ndarray, train_test_ratio:int=TRAIN_TEST_RATIO, random_split=True) :\n",
    "    if random_split:\n",
    "        # Shuffle\n",
    "        np.random.shuffle(data)\n",
    "    \n",
    "    # Split data\n",
    "    cut_index = round(data.shape[0] * train_test_ratio) \n",
    "    train_set = data[:cut_index, :]\n",
    "    test_set = data[cut_index:, :]\n",
    "    return(train_set, test_set)"
   ]
  },
  {
   "cell_type": "code",
   "execution_count": 51,
   "metadata": {},
   "outputs": [],
   "source": [
    "MAX_CATEGORY = 14\n",
    "\n",
    "def equalize(subsets):\n",
    "    # TODO\n",
    "    return subsets\n",
    "\n",
    "def load_and_split():\n",
    "    subsets = []\n",
    "    for nb_face in range(MAX_CATEGORY+1):\n",
    "        # Y value of these alements\n",
    "        categorical_y = np.zeros((1, MAX_CATEGORY+1))\n",
    "        categorical_y[0, nb_face] = 1\n",
    "        \n",
    "        subsets.append(np.zeros((0, 50*50 + MAX_CATEGORY+1)))\n",
    "        folder_path = os.path.join(\"train_set\", str(nb_face))\n",
    "        for filename in os.listdir(folder_path):\n",
    "            # Filter non image files\n",
    "            if \".jpeg\" in filename or \".png\" in filename:\n",
    "                x = plt.imread(os.path.join(folder_path, filename)).reshape((1, 50*50))\n",
    "                y = categorical_y\n",
    "                xy = np.concatenate((x,y), axis=1)\n",
    "                subsets[nb_face] = np.concatenate((subsets[nb_face], xy), axis=0)\n",
    "    \n",
    "    # Equalize to have the same number of each Y value\n",
    "    equalized_subsets = equalize(subsets)\n",
    "    \n",
    "    # Split data respecting equalization\n",
    "    train_set, test_set = split(equalized_subsets[0])\n",
    "    for subset in equalized_subsets[1:]:\n",
    "        add_train_set, add_test_set = split(subset)\n",
    "        train_set = np.concatenate((train_set, add_train_set), axis=0)\n",
    "        test_set = np.concatenate((test_set, add_test_set), axis=0)\n",
    "    \n",
    "    # Shuffle\n",
    "    random.shuffle(train_set)\n",
    "    random.shuffle(test_set)\n",
    "    \n",
    "    print(\"Train size = {}, test size = {}\".format(train_set.shape, test_set.shape))\n",
    "    \n",
    "    return train_set, test_set\n",
    "        "
   ]
  },
  {
   "cell_type": "markdown",
   "metadata": {},
   "source": [
    "__train_neuural_network__ : function that creates a neural network and trains it with the train_set "
   ]
  },
  {
   "cell_type": "code",
   "execution_count": 56,
   "metadata": {},
   "outputs": [],
   "source": [
    "def generate_model():\n",
    "    # Simple model\n",
    "    model = keras.models.Sequential()\n",
    "    \n",
    "    # Add neurone layers\n",
    "    model.add(keras.layers.Dense(units=500, activation='relu', input_dim=50*50))\n",
    "    model.add(keras.layers.Dense(units=100, activation='relu'))\n",
    "    model.add(keras.layers.Dense(units=40, activation='relu'))\n",
    "    model.add(keras.layers.Dense(units=15, activation='relu'))\n",
    "    \n",
    "    # Learning process\n",
    "    model.compile(loss='categorical_crossentropy',\n",
    "              optimizer='sgd',\n",
    "              metrics=['accuracy'])\n",
    "    return model \n",
    "\n",
    "def train_neural_network(train_set):\n",
    "    print(\"Generating model\")\n",
    "    model = generate_model()\n",
    "    \n",
    "    x_train = train_set[:, :50*50]\n",
    "    y_train = train_set[:, 50*50:]\n",
    "    \n",
    "    print(\"Start training\")\n",
    "    model.fit(x_train, y_train, epochs=5, batch_size=32)\n",
    "    \n",
    "    return model"
   ]
  },
  {
   "cell_type": "markdown",
   "metadata": {},
   "source": [
    "__evaluate_performance__ : function that applys the neural network on the images in the test_set and compare with the real number of faces in these images "
   ]
  },
  {
   "cell_type": "code",
   "execution_count": 53,
   "metadata": {},
   "outputs": [],
   "source": [
    "def evaluate_performance(model, test_set):\n",
    "    \n",
    "    x_test = test_set[:, :50*50]\n",
    "    y_test = test_set[:, 50*50:]\n",
    "    \n",
    "    loss_and_metrics = model.evaluate(x_test, y_test, batch_size=128)\n",
    "    "
   ]
  },
  {
   "cell_type": "code",
   "execution_count": null,
   "metadata": {},
   "outputs": [],
   "source": []
  },
  {
   "cell_type": "code",
   "execution_count": 55,
   "metadata": {},
   "outputs": [
    {
     "name": "stdout",
     "output_type": "stream",
     "text": [
      "Split\n",
      "Train size = (157, 2515), test size = (76, 2515)\n",
      "Train\n",
      "Generating model\n",
      "x train [[0. 0. 0. ... 0. 0. 0.]\n",
      " [0. 0. 0. ... 0. 0. 0.]\n",
      " [0. 0. 0. ... 0. 0. 0.]\n",
      " ...\n",
      " [0. 0. 0. ... 0. 0. 0.]\n",
      " [0. 0. 0. ... 0. 0. 0.]\n",
      " [0. 0. 0. ... 0. 0. 0.]]\n",
      "Start training\n",
      "Epoch 1/5\n",
      "157/157 [==============================] - 0s 3ms/step - loss: 6.9554 - acc: 0.1911\n",
      "Epoch 2/5\n",
      "157/157 [==============================] - 0s 2ms/step - loss: 5.1468 - acc: 0.4459\n",
      "Epoch 3/5\n",
      "157/157 [==============================] - 0s 2ms/step - loss: 2.8485 - acc: 0.6688\n",
      "Epoch 4/5\n",
      "157/157 [==============================] - 0s 2ms/step - loss: 2.2530 - acc: 0.8025\n",
      "Epoch 5/5\n",
      "157/157 [==============================] - 0s 2ms/step - loss: 1.9981 - acc: 0.8344\n",
      "Evaluate\n",
      "76/76 [==============================] - 0s 305us/step\n"
     ]
    }
   ],
   "source": [
    "print(\"Split\")\n",
    "train_set, test_set = load_and_split()\n",
    "\n",
    "print(\"Train\")\n",
    "model = train_neural_network(train_set)\n",
    "\n",
    "print(\"Evaluate\")\n",
    "evaluate_performance(model, test_set)"
   ]
  }
 ],
 "metadata": {
  "kernelspec": {
   "display_name": "Python 3",
   "language": "python",
   "name": "python3"
  },
  "language_info": {
   "codemirror_mode": {
    "name": "ipython",
    "version": 3
   },
   "file_extension": ".py",
   "mimetype": "text/x-python",
   "name": "python",
   "nbconvert_exporter": "python",
   "pygments_lexer": "ipython3",
   "version": "3.6.5"
  }
 },
 "nbformat": 4,
 "nbformat_minor": 2
}
