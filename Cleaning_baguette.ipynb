{
 "cells": [
  {
   "cell_type": "markdown",
   "metadata": {},
   "source": [
    "Stanislas Deneuville - Emmanuel Ferrandi - Pol Grisart - Marine Médard\n",
    "# Project of data science :  Face recognition in a video and counting\n",
    "12/11/2018\n",
    "\n",
    "## Part I : Cleaning"
   ]
  },
  {
   "cell_type": "code",
   "execution_count": null,
   "metadata": {},
   "outputs": [],
   "source": [
    "import cv2\n",
    "import sys\n",
    "import os\n",
    "import numpy as np"
   ]
  },
  {
   "cell_type": "markdown",
   "metadata": {},
   "source": [
    "__face_detection__ : dectect the faces in a photograph.\n",
    "\n",
    "\n",
    "In : \n",
    "* imagePath : name of the file containing the image in the format jpeg for example\n",
    "\n",
    "Out : \n",
    "* face_locations : list of the location of all faces in the picture in parameter\n",
    "* height : height of the input image\n",
    "* width : width of the input image\n"
   ]
  },
  {
   "cell_type": "code",
   "execution_count": null,
   "metadata": {},
   "outputs": [],
   "source": [
    "def detectFaces(image, save=True):\n",
    "    cascPath = \"haarcascade_frontalface_default.xml\"\n",
    "\n",
    "    # Create the haar cascade\n",
    "    faceCascade = cv2.CascadeClassifier(cascPath)\n",
    "\n",
    "    # Read the image\n",
    "    if (save) :\n",
    "        image = cv2.imread(image)\n",
    "    gray = cv2.cvtColor(image, cv2.COLOR_BGR2GRAY)\n",
    "    height = image.shape[0]\n",
    "    width = image.shape[1] \n",
    "\n",
    "    # Detect faces in the image\n",
    "    face_locations = faceCascade.detectMultiScale(\n",
    "        gray,\n",
    "        scaleFactor=1.1,\n",
    "        minNeighbors=3,\n",
    "        minSize=(20, 20),\n",
    "        flags = cv2.CASCADE_SCALE_IMAGE\n",
    "    )\n",
    "\n",
    "    return face_locations,height,width"
   ]
  },
  {
   "cell_type": "markdown",
   "metadata": {},
   "source": [
    "__checkRecovery__ : check if there are some recoveries coordonates given and a list of rectangle\n",
    "\n",
    "In : \n",
    "* x : x-coordonate of the upper left corner of the white rectangle\n",
    "* y : y-coordonate of the upper left corner of the white rectangle\n",
    "* w : width of the white rectangle\n",
    "* h : height of the white rectangle\n",
    "* list_rectangles : list containing the locations of the white rectangles \n",
    "\n",
    "Out : \n",
    "* True : if there is at least one recovery detected\n",
    "* False : if there are no recoveries detected"
   ]
  },
  {
   "cell_type": "code",
   "execution_count": null,
   "metadata": {},
   "outputs": [],
   "source": [
    "def checkRecovery(x,y,w,h,list_rectangles):\n",
    "    if (len(list_rectangles)>1):\n",
    "        for (x1,y1,w1,h1) in list_rectangles:\n",
    "            x_set=np.arange(x,x+w)\n",
    "            y_set=np.arange(y,y+h)\n",
    "            x1_set=np.arange(x1,x1+w1)\n",
    "            y1_set=np.arange(y1,y1+h1)\n",
    "            \n",
    "            #if there is at least one common value in x-axis and y-axis between the 2 rectangles\n",
    "            if (bool(set(x_set)&set(x1_set)) & bool(set(y_set)&set(y1_set))):\n",
    "                return True #there is recovery\n",
    "        return False\n",
    "    \n",
    "    #if there is only one rectangle in the list\n",
    "    else :\n",
    "        x_set=np.arange(x,x+w)\n",
    "        y_set=np.arange(y,y+h)\n",
    "        x1_set=np.arange(list_rectangles[0][0],list_rectangles[0][0]+list_rectangles[0][2])\n",
    "        y1_set=np.arange(list_rectangles[0][1],list_rectangles[0][1]+list_rectangles[0][3])\n",
    "        if (bool(set(x_set)&set(x1_set)) & bool(set(y_set)&set(y1_set))):\n",
    "            return True\n",
    "        return False\n",
    "        "
   ]
  },
  {
   "cell_type": "markdown",
   "metadata": {},
   "source": [
    "__removeRecoveries__ : remove recovered rectangles in the list of faces\n",
    "In : \n",
    "* face_locations : list containing the locations of the white rectangles \n",
    "\n",
    "Out : \n",
    "* new_face_locations : list containing the new locations of the white rectangles "
   ]
  },
  {
   "cell_type": "code",
   "execution_count": null,
   "metadata": {},
   "outputs": [],
   "source": [
    "def removeRecoveries(face_locations):\n",
    "    new_face_locations = []\n",
    "    new_face_locations.append(face_locations[0]) #face_locations always has more than one face in this case\n",
    "    for (x, y, w, h) in face_locations[1:]:\n",
    "        \n",
    "        #if next rectangles have no recovery with all the other rectangles\n",
    "        if not (checkRecovery(x,y,w,h,new_face_locations)):\n",
    "            #we can keep it in the image\n",
    "            new_face_locations.append([x,y,w,h])\n",
    "            \n",
    "    return new_face_locations"
   ]
  },
  {
   "cell_type": "markdown",
   "metadata": {},
   "source": [
    "__image_generation__ : generate a black image with white circle whoes location in gave in parameter\n",
    "\n",
    "\n",
    "In : \n",
    "* face_locations : list containing the locations of the white rectangles that will be added to the picture\n",
    "* height : height of the input image\n",
    "* width : width of the input image\n",
    "\n",
    "Out : \n",
    "* BWimage : list of list  representing a black picture with white rectangles\n"
   ]
  },
  {
   "cell_type": "code",
   "execution_count": null,
   "metadata": {},
   "outputs": [],
   "source": [
    "def toBlackAndWhite(face_locations,height,width):\n",
    "    BWimage = np.zeros((height,width))\n",
    "    height = BWimage.shape[0]\n",
    "    \n",
    "    for (x, y, w, h) in face_locations:\n",
    "        for i in range(h):\n",
    "            for j in range(w):\n",
    "                BWimage[y+j,x+i]=255 #255 is black\n",
    "                \n",
    "    return BWimage"
   ]
  },
  {
   "cell_type": "markdown",
   "metadata": {},
   "source": [
    "__resize_image__ : resize the image gave in parameter in a 50x50 pixels image \n",
    "\n",
    "\n",
    "In : \n",
    "* image : list of list  representing an image in white and black\n",
    "\n",
    "Out : \n",
    "* face_locations : list of list representing the same image than in parameter but with the dimensions 50x50\n"
   ]
  },
  {
   "cell_type": "code",
   "execution_count": null,
   "metadata": {},
   "outputs": [],
   "source": [
    "def resize_image(image) :\n",
    "    final_image = cv2.resize(image, (50,50), interpolation = cv2.INTER_AREA) \n",
    "    return final_image"
   ]
  },
  {
   "cell_type": "markdown",
   "metadata": {},
   "source": [
    "__save_image__ : save the image in parameter in the good repository according to nb_circles\n",
    "\n",
    "\n",
    "In : \n",
    "* image : image that we want to save\n",
    "* nb_faces : int, the number of faces detected in the image\n",
    "* cpt : int, the numero of the image that is being cleaned\n",
    "\n",
    "Out : \n",
    "* int : 0 if everything is ok\n"
   ]
  },
  {
   "cell_type": "code",
   "execution_count": null,
   "metadata": {},
   "outputs": [],
   "source": [
    "def save_image(image, nb_faces, cpt) :\n",
    "    path = \"./train_set/\"+str(nb_faces)+\"/\"\n",
    "    if (not os.path.isdir(path)) :\n",
    "        os.mkdir(path)\n",
    "    cv2.imwrite(path+\"image\"+str(cpt)+\".jpg\",image)\n",
    "    #print(\"Image saved in : \"+path+\"image\"+str(cpt)+\".jpg\")\n",
    "    return 0"
   ]
  },
  {
   "cell_type": "markdown",
   "metadata": {},
   "source": [
    "__cleaning__ : clean an image so that we can count faces in it thanks to an ANN\n",
    "\n",
    "In : \n",
    "* image : name of the file containing the image in the format jpeg for example\n",
    "* cpt : the numero of the image that is being cleaned\n",
    "\n",
    "Out :\n",
    "* final_image : list of lists, the final image\n"
   ]
  },
  {
   "cell_type": "code",
   "execution_count": null,
   "metadata": {},
   "outputs": [],
   "source": [
    "def cleaning(image, cpt) :\n",
    "    face_locations,height,width = detectFaces(image)\n",
    "    nb_faces = len(face_locations)\n",
    "    \n",
    "    if(nb_faces>1):\n",
    "        face_locations = removeRecoveries(face_locations)\n",
    "        nb_faces = len(face_locations)\n",
    "    \n",
    "    newImage = toBlackAndWhite(face_locations,height,width)\n",
    "    \n",
    "    final_image = resize_image(newImage)\n",
    "    \n",
    "    save_image(final_image, nb_faces, cpt)\n",
    "    \n",
    "    return final_image\n",
    "    \n",
    "cleaning('test1.jpg',0)"
   ]
  },
  {
   "cell_type": "markdown",
   "metadata": {},
   "source": [
    "__clean_without_save__ : it is the same function as cleaning but it does not save the new image in repository\n",
    "\n",
    "In : \n",
    "* image : image that need to be cleaned\n",
    "\n",
    "Out :\n",
    "* final_image : list of list, the cleaned image\n"
   ]
  },
  {
   "cell_type": "code",
   "execution_count": null,
   "metadata": {},
   "outputs": [],
   "source": [
    "def clean_without_save(image) :\n",
    "    face_locations,height,width = detectFaces(image, False)\n",
    "    nb_faces = len(face_locations)\n",
    "    if(nb_faces>1):\n",
    "        face_locations = removeRecoveries(face_locations)\n",
    "        nb_faces = len(face_locations)\n",
    "    \n",
    "    newImage = toBlackAndWhite(face_locations,height,width)\n",
    "    \n",
    "    final_image = resize_image(newImage)\n",
    "    \n",
    "    return final_image\n",
    "    "
   ]
  },
  {
   "cell_type": "markdown",
   "metadata": {},
   "source": [
    "__cleaAll__ : clean all images in a directory\n",
    "\n",
    "In : \n",
    "* name_dir : string, name of the directory where we want to clean all the images\n",
    "\n"
   ]
  },
  {
   "cell_type": "code",
   "execution_count": null,
   "metadata": {},
   "outputs": [],
   "source": [
    "def cleanAll(name_dir) :\n",
    "    cpt = 0\n",
    "    liste_files = os.listdir(name_dir)\n",
    "    for name_f in liste_files :\n",
    "        if ('.jpg' in name_f) :\n",
    "            cleaning(name_dir + '/' + name_f, cpt)\n",
    "            cpt +=1\n",
    "        \n",
    "#cleanAll('Group2a')\n",
    "\n"
   ]
  }
 ],
 "metadata": {
  "kernelspec": {
   "display_name": "Python 3",
   "language": "python",
   "name": "python3"
  }
 },
 "nbformat": 4,
 "nbformat_minor": 2
}
