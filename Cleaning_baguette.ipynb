{
 "cells": [
  {
   "cell_type": "markdown",
   "metadata": {},
   "source": [
    "Stanislas Deneuville - Emmanuel Ferrandi - Pol Grisart - Marine Médard\n",
    "# Project of data science :  Face recognition in a video and counting\n",
    "12/11/2018\n",
    "\n",
    "## Part I : Cleaning"
   ]
  },
  {
   "cell_type": "markdown",
   "metadata": {},
   "source": [
    "__face_detection__ : dectect the faces in a photograph.\n",
    "\n",
    "\n",
    "In : \n",
    "* image : name of the file containing the image in the format jpeg for example\n",
    "\n",
    "Out : \n",
    "* face_locations : list of the location of all faces in the picture in parameter\n"
   ]
  },
  {
   "cell_type": "code",
   "execution_count": null,
   "metadata": {},
   "outputs": [],
   "source": [
    "def face_detection(image) :\n",
    "    face_locations = []\n",
    "    return face_locations"
   ]
  },
  {
   "cell_type": "markdown",
   "metadata": {},
   "source": [
    "__image_generation__ : generate a black image with white circle whoes location in gave in parameter\n",
    "\n",
    "\n",
    "In : \n",
    "* circle_location : list containing the locations of the white circle that will be add to the picture\n",
    "\n",
    "Out : \n",
    "* image : list of list  representing a black picture with white circles\n"
   ]
  },
  {
   "cell_type": "code",
   "execution_count": 4,
   "metadata": {},
   "outputs": [],
   "source": [
    "def image_generation(circle_locations) :\n",
    "    new_image = [[]]\n",
    "    return new_image"
   ]
  },
  {
   "cell_type": "markdown",
   "metadata": {},
   "source": [
    "__resize_image__ : resize the image gave in parameter in a 50x50 pixels image \n",
    "\n",
    "\n",
    "In : \n",
    "* image : list of list  representing an image in white and black\n",
    "\n",
    "Out : \n",
    "* face_locations : list of list representing the same image than in parameter but with the dimensions 50x50\n"
   ]
  },
  {
   "cell_type": "code",
   "execution_count": 2,
   "metadata": {},
   "outputs": [],
   "source": [
    "def resize_imgae(image, nb_circles) :\n",
    "    final_image = [[]]\n",
    "    return final_image"
   ]
  },
  {
   "cell_type": "markdown",
   "metadata": {},
   "source": [
    "__save_image__ : save the image in parameter in the good repository according to nb_circles\n",
    "\n",
    "\n",
    "In : \n",
    "* image : image that we want to save\n",
    "* nb_circles : int, the number of circles in the image\n",
    "\n",
    "Out : \n",
    "* int : 0 if everything is ok\n"
   ]
  },
  {
   "cell_type": "code",
   "execution_count": 3,
   "metadata": {},
   "outputs": [],
   "source": [
    "def save_image(image, nb_circles) :\n",
    "    return 0"
   ]
  },
  {
   "cell_type": "markdown",
   "metadata": {},
   "source": [
    "__cleaning__ : clean an image so that we can count faces in it thanks to an ANN\n",
    "\n",
    "In : \n",
    "* image : name of the file containing the image in the format jpeg for example\n",
    "\n"
   ]
  },
  {
   "cell_type": "code",
   "execution_count": null,
   "metadata": {},
   "outputs": [],
   "source": [
    "def cleaning(image) :\n",
    "    face_locations = face_detection(image)\n",
    "    \n",
    "    nb_circles = len(face_locations)\n",
    "    \n",
    "    new_image = image_generation(face_locations)\n",
    "    \n",
    "    final_image = resize_image(newImage)\n",
    "    \n",
    "    save_image(final_image, nb_circles)"
   ]
  }
 ],
 "metadata": {
  "kernelspec": {
   "display_name": "Python 3",
   "language": "python",
   "name": "python3"
  },
  "language_info": {
   "codemirror_mode": {
    "name": "ipython",
    "version": 3
   },
   "file_extension": ".py",
   "mimetype": "text/x-python",
   "name": "python",
   "nbconvert_exporter": "python",
   "pygments_lexer": "ipython3",
   "version": "3.6.5"
  }
 },
 "nbformat": 4,
 "nbformat_minor": 2
}
